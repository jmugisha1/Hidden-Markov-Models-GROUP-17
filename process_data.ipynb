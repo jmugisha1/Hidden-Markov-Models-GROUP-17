{
  "nbformat": 4,
  "nbformat_minor": 0,
  "metadata": {
    "colab": {
      "provenance": []
    },
    "kernelspec": {
      "name": "python3",
      "display_name": "Python 3"
    },
    "language_info": {
      "name": "python"
    }
  },
  "cells": [
    {
      "cell_type": "code",
      "execution_count": 1,
      "metadata": {
        "colab": {
          "base_uri": "https://localhost:8080/"
        },
        "id": "V3k9YSSy26jN",
        "outputId": "c6da020c-4a47-4518-950e-8f56cc9d3abb"
      },
      "outputs": [
        {
          "output_type": "stream",
          "name": "stdout",
          "text": [
            "All files merged successfully!\n"
          ]
        }
      ],
      "source": [
        "import pandas as pd\n",
        "import os\n",
        "\n",
        "data_path = \"/content/drive/MyDrive/data\"\n",
        "\n",
        "# List of activities\n",
        "activities = [\"jumping\", \"standing\", \"still\", \"walking\"]\n",
        "\n",
        "for activity in activities:\n",
        "    # Load accelerometer and gyroscope files\n",
        "    acc_file = os.path.join(data_path, f\"{activity}-Accelerometer-final.csv\")\n",
        "    gyro_file = os.path.join(data_path, f\"{activity}-Gyroscope-final.csv\")\n",
        "\n",
        "    acc_df = pd.read_csv(acc_file)\n",
        "    gyro_df = pd.read_csv(gyro_file)\n",
        "\n",
        "    # Rename columns\n",
        "    acc_df = acc_df.rename(columns={\"x\": \"acc_x\", \"y\": \"acc_y\", \"z\": \"acc_z\"})\n",
        "    gyro_df = gyro_df.rename(columns={\"x\": \"gyro_x\", \"y\": \"gyro_y\", \"z\": \"gyro_z\"})\n",
        "\n",
        "    # Keep only time and sensor columns\n",
        "    acc_df = acc_df[[\"time\", \"acc_x\", \"acc_y\", \"acc_z\"]]\n",
        "    gyro_df = gyro_df[[\"time\", \"gyro_x\", \"gyro_y\", \"gyro_z\"]]\n",
        "\n",
        "    # Merge on 'time'\n",
        "    merged_df = pd.merge_asof(acc_df.sort_values(\"time\"),\n",
        "                              gyro_df.sort_values(\"time\"),\n",
        "                              on=\"time\")\n",
        "\n",
        "    # Add activity column\n",
        "    merged_df[\"activity\"] = activity\n",
        "\n",
        "    # Save merged CSV\n",
        "    output_file = os.path.join(data_path, f\"{activity}-final.csv\")\n",
        "    merged_df.to_csv(output_file, index=False)\n",
        "\n",
        "print(\"All files merged successfully!\")\n"
      ]
    }
  ]
}
